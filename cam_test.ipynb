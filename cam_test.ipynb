{
 "cells": [
  {
   "cell_type": "code",
   "execution_count": 4,
   "metadata": {
    "collapsed": true
   },
   "outputs": [],
   "source": [
    "# adaptive thresholding\n",
    "\n",
    "import cv2\n",
    "from IPython.display import clear_output\n",
    "import numpy as np\n",
    "\n",
    "cam = cv2.VideoCapture(1)\n",
    "\n",
    "img_rows, img_cols = 64, 64\n",
    "\n",
    "while True:\n",
    "    ret_val, img = cam.read()\n",
    "    if img is None:\n",
    "        print(\"error opening camera\")\n",
    "        break\n",
    "    img = cv2.cvtColor(img, cv2.COLOR_BGR2GRAY)\n",
    "    img = cv2.resize(img, (int(img.shape[1]/3), int(img.shape[0]/3)))\n",
    "    sr, sc = 55, 55\n",
    "    img = img[sr:sr+img_rows, sc:sc+img_cols]\n",
    "\n",
    "\n",
    "    # adaptive thresholding\n",
    "    # http://docs.opencv.org/trunk/d7/d4d/tutorial_py_thresholding.html\n",
    "    img = cv2.adaptiveThreshold(img, 255, cv2.ADAPTIVE_THRESH_MEAN_C, cv2.THRESH_BINARY, 101, 15)\n",
    "    img = 255-img\n",
    "    img = img.astype(np.float64)\n",
    "    img /= 255\n",
    "\n",
    "    clear_output(wait=True)\n",
    "    i = 1\n",
    "    cv2.imshow('board_detector', cv2.resize(img, (512*i, 512*i)))\n",
    "\n",
    "    if cv2.waitKey(1) == 27:\n",
    "        break  # esc to quit\n",
    "\n",
    "\n",
    "cv2.destroyAllWindows()\n",
    "cam.release()"
   ]
  },
  {
   "cell_type": "code",
   "execution_count": 1,
   "metadata": {},
   "outputs": [],
   "source": [
    "import cv2\n",
    "from IPython.display import clear_output\n",
    "import numpy as np\n",
    "%matplotlib inline\n",
    "from matplotlib import pyplot as plt\n",
    "from utils import ones_state, vis, state_ones\n",
    "\n",
    "cam = cv2.VideoCapture(1)"
   ]
  },
  {
   "cell_type": "code",
   "execution_count": 2,
   "metadata": {},
   "outputs": [
    {
     "name": "stderr",
     "output_type": "stream",
     "text": [
      "c:\\Users\\aabdo\\miniconda3\\envs\\tic_tac_toe\\Lib\\site-packages\\keras\\src\\layers\\convolutional\\base_conv.py:107: UserWarning: Do not pass an `input_shape`/`input_dim` argument to a layer. When using Sequential models, prefer using an `Input(shape)` object as the first layer in the model instead.\n",
      "  super().__init__(activity_regularizer=activity_regularizer, **kwargs)\n"
     ]
    },
    {
     "name": "stdout",
     "output_type": "stream",
     "text": [
      "model created with # params: 507858\n",
      "loading model weights from path: weights-00-0.28.hdf5\n",
      "loaded weights\n"
     ]
    }
   ],
   "source": [
    "from detector import Detector\n",
    "d = Detector(64, 64, \"weights-00-0.28.hdf5\")"
   ]
  },
  {
   "cell_type": "code",
   "execution_count": 3,
   "metadata": {},
   "outputs": [
    {
     "name": "stdout",
     "output_type": "stream",
     "text": [
      "model created with # params: 353\n",
      "loading model weights from path: t3_weights-19-0.24.hdf5\n",
      "loaded weights\n"
     ]
    },
    {
     "name": "stderr",
     "output_type": "stream",
     "text": [
      "c:\\Users\\aabdo\\miniconda3\\envs\\tic_tac_toe\\Lib\\site-packages\\keras\\src\\layers\\core\\dense.py:87: UserWarning: Do not pass an `input_shape`/`input_dim` argument to a layer. When using Sequential models, prefer using an `Input(shape)` object as the first layer in the model instead.\n",
      "  super().__init__(activity_regularizer=activity_regularizer, **kwargs)\n"
     ]
    }
   ],
   "source": [
    "# create tictac ai\n",
    "import t3_ai\n",
    "t3 = t3_ai.AI(weights_path=\"t3_weights-19-0.24.hdf5\")"
   ]
  },
  {
   "cell_type": "code",
   "execution_count": 4,
   "metadata": {},
   "outputs": [],
   "source": [
    "def rc_from_int(a):\n",
    "    r = int(np.floor(a/3.0))\n",
    "    c = a%3\n",
    "    return r,c"
   ]
  },
  {
   "cell_type": "code",
   "execution_count": 6,
   "metadata": {},
   "outputs": [
    {
     "ename": "error",
     "evalue": "OpenCV(4.10.0) D:\\a\\opencv-python\\opencv-python\\opencv\\modules\\imgproc\\src\\resize.cpp:4152: error: (-215:Assertion failed) !ssize.empty() in function 'cv::resize'\n",
     "output_type": "error",
     "traceback": [
      "\u001b[1;31m---------------------------------------------------------------------------\u001b[0m",
      "\u001b[1;31merror\u001b[0m                                     Traceback (most recent call last)",
      "Cell \u001b[1;32mIn[6], line 70\u001b[0m\n\u001b[0;32m     68\u001b[0m croped_img \u001b[38;5;241m=\u001b[39m cv2\u001b[38;5;241m.\u001b[39mcvtColor(image, cv2\u001b[38;5;241m.\u001b[39mCOLOR_BGR2GRAY)\n\u001b[0;32m     69\u001b[0m croped_img \u001b[38;5;241m=\u001b[39m croped_img[ref_point[\u001b[38;5;241m0\u001b[39m][\u001b[38;5;241m1\u001b[39m]:ref_point[\u001b[38;5;241m1\u001b[39m][\u001b[38;5;241m1\u001b[39m], ref_point[\u001b[38;5;241m0\u001b[39m][\u001b[38;5;241m0\u001b[39m]:ref_point[\u001b[38;5;241m1\u001b[39m][\u001b[38;5;241m0\u001b[39m]]\n\u001b[1;32m---> 70\u001b[0m croped_img \u001b[38;5;241m=\u001b[39m \u001b[43mcv2\u001b[49m\u001b[38;5;241;43m.\u001b[39;49m\u001b[43mresize\u001b[49m\u001b[43m(\u001b[49m\u001b[43mcroped_img\u001b[49m\u001b[43m,\u001b[49m\u001b[43m \u001b[49m\u001b[43m(\u001b[49m\u001b[38;5;241;43m64\u001b[39;49m\u001b[43m,\u001b[49m\u001b[43m \u001b[49m\u001b[38;5;241;43m64\u001b[39;49m\u001b[43m)\u001b[49m\u001b[43m)\u001b[49m\n\u001b[0;32m     71\u001b[0m croped_img \u001b[38;5;241m=\u001b[39m cv2\u001b[38;5;241m.\u001b[39madaptiveThreshold(croped_img, \u001b[38;5;241m255\u001b[39m, cv2\u001b[38;5;241m.\u001b[39mADAPTIVE_THRESH_GAUSSIAN_C, cv2\u001b[38;5;241m.\u001b[39mTHRESH_BINARY, \u001b[38;5;241m11\u001b[39m,\u001b[38;5;241m2\u001b[39m)\n\u001b[0;32m     72\u001b[0m croped_img \u001b[38;5;241m=\u001b[39m \u001b[38;5;241m255\u001b[39m\u001b[38;5;241m-\u001b[39mcroped_img\n",
      "\u001b[1;31merror\u001b[0m: OpenCV(4.10.0) D:\\a\\opencv-python\\opencv-python\\opencv\\modules\\imgproc\\src\\resize.cpp:4152: error: (-215:Assertion failed) !ssize.empty() in function 'cv::resize'\n"
     ]
    },
    {
     "ename": "",
     "evalue": "",
     "output_type": "error",
     "traceback": [
      "\u001b[1;31mThe Kernel crashed while executing code in the current cell or a previous cell. \n",
      "\u001b[1;31mPlease review the code in the cell(s) to identify a possible cause of the failure. \n",
      "\u001b[1;31mClick <a href='https://aka.ms/vscodeJupyterKernelCrash'>here</a> for more info. \n",
      "\u001b[1;31mView Jupyter <a href='command:jupyter.viewOutput'>log</a> for further details."
     ]
    }
   ],
   "source": [
    "import cv2\n",
    "# from IPython.display import clear_output\n",
    "\n",
    "# now let's initialize the list of reference point\n",
    "ref_point = []\n",
    "draw = False\n",
    "def shape_selection(event, x, y, flags, param):\n",
    "    # grab references to the global variables\n",
    "    global ref_point, crop, draw\n",
    "    # ix, iy = (0, 0)\n",
    "    # if the left mouse button was clicked, record the starting\n",
    "    # (x, y) coordinates and indicate that cropping is being performed\n",
    "    if event == cv2.EVENT_LBUTTONDOWN:\n",
    "        draw = True\n",
    "        ref_point = [(x, y)]\n",
    "        # image = clone.copy()\n",
    "        # cv2.imshow(\"image\", image)\n",
    "\n",
    "    # check to see if the left mouse button was released\n",
    "    elif event == cv2.EVENT_LBUTTONUP:\n",
    "        # record the ending (x, y) coordinates and indicate that\n",
    "        # the cropping operation is finished\n",
    "        if draw:\n",
    "            draw = False\n",
    "            ref_point.append((x, y))\n",
    "            ix, iy = (ref_point[0][0], ref_point[0][1])\n",
    "            # calculate the side length of the square\n",
    "            side_length = max(abs(x - ix), abs(y - iy))\n",
    "\n",
    "            # determine the bottom-right corner of the square\n",
    "            if x >= ix and y >= iy:\n",
    "                ref_point[1] = (ix + side_length, iy + side_length)\n",
    "            elif x >= ix and y < iy:\n",
    "                ref_point[1] = (ix + side_length, iy - side_length)\n",
    "            elif x < ix and y >= iy:\n",
    "                ref_point[1] = (ix - side_length, iy + side_length)\n",
    "            else:\n",
    "                ref_point[1] = (ix - side_length, iy - side_length)\n",
    "\n",
    "                        \n",
    "            # cv2.imshow(\"image\", image)\n",
    "\n",
    "\n",
    "\n",
    "\n",
    "# load the image, clone it, and setup the mouse callback function\n",
    "ret_val, image = cam.read()\n",
    "# image = cv2.imread('download.png')\n",
    "clone = image.copy()\n",
    "cv2.namedWindow(\"image\")\n",
    "cv2.setMouseCallback(\"image\", shape_selection)\n",
    "\n",
    "croped_img = None\n",
    "# keep looping until the 'q' key is pressed\n",
    "rotation = 0\n",
    "while True:\n",
    "    # display the image and wait for a keypress\n",
    "    ret_val, image = cam.read()\n",
    "    for _ in range(rotation):\n",
    "        image = cv2.rotate(image, cv2.ROTATE_90_CLOCKWISE)\n",
    "    \n",
    "    if len(ref_point)==2:\n",
    "        # draw a square around the region of interest\n",
    "        thickness = 2\n",
    "        cv2.rectangle(image, \n",
    "                (ref_point[0][0] - thickness, ref_point[0][1] - thickness), \n",
    "                (ref_point[1][0] + thickness, ref_point[1][1] + thickness), \n",
    "                (0, 255, 0), thickness)\n",
    "        croped_img = cv2.cvtColor(image, cv2.COLOR_BGR2GRAY)\n",
    "        croped_img = croped_img[ref_point[0][1]:ref_point[1][1], ref_point[0][0]:ref_point[1][0]]\n",
    "        croped_img = cv2.resize(croped_img, (64, 64))\n",
    "        croped_img = cv2.adaptiveThreshold(croped_img, 255, cv2.ADAPTIVE_THRESH_GAUSSIAN_C, cv2.THRESH_BINARY, 11,2)\n",
    "        croped_img = 255-croped_img\n",
    "        croped_img = croped_img.astype(np.float64)\n",
    "        croped_img /= 255\n",
    "\n",
    "        clear_output(wait=True)\n",
    "        cv2.imshow(\"cropped\", cv2.resize(croped_img, (256, 256)))\n",
    "        # plt.imshow(croped_img, cmap=plt.cm.gray)\n",
    "        state = np.round(d.predict(croped_img))\n",
    "        vis(ones_state(state))\n",
    "        state = ones_state(state)\n",
    "        # besta = t3.best_move(state)\n",
    "        # r, c = rc_from_int(besta)\n",
    "        # print(r,c)\n",
    "    \n",
    "    cv2.imshow(\"image\", image)\n",
    "    \n",
    "    key = cv2.waitKey(1) & 0xFF\n",
    "\n",
    "    # press 'r' to reset the window\n",
    "    if key == ord(\"r\"):\n",
    "        # draw = True\n",
    "        rotation += 1\n",
    "        rotation %= 4\n",
    "        # image = clone.copy()\n",
    "\n",
    "    # if the 'c' key is pressed, break from the loop\n",
    "    elif key == 27:\n",
    "        break\n",
    "\n",
    "# close all open windows\n",
    "print(ref_point)\n",
    "cv2.destroyAllWindows() "
   ]
  },
  {
   "cell_type": "code",
   "execution_count": 2,
   "metadata": {},
   "outputs": [
    {
     "name": "stdout",
     "output_type": "stream",
     "text": [
      "(558, 304)\n"
     ]
    },
    {
     "ename": "ValueError",
     "evalue": "invalid literal for int() with base 10: ''",
     "output_type": "error",
     "traceback": [
      "\u001b[1;31m---------------------------------------------------------------------------\u001b[0m",
      "\u001b[1;31mValueError\u001b[0m                                Traceback (most recent call last)",
      "Cell \u001b[1;32mIn[2], line 18\u001b[0m\n\u001b[0;32m     16\u001b[0m (minVal, maxVal, minLoc, maxLoc) \u001b[38;5;241m=\u001b[39m cv2\u001b[38;5;241m.\u001b[39mminMaxLoc(gray)\n\u001b[0;32m     17\u001b[0m cv2\u001b[38;5;241m.\u001b[39mcircle(img, maxLoc, \u001b[38;5;241m20\u001b[39m, (\u001b[38;5;241m0\u001b[39m, \u001b[38;5;241m0\u001b[39m, \u001b[38;5;241m255\u001b[39m), \u001b[38;5;241m2\u001b[39m)\n\u001b[1;32m---> 18\u001b[0m sr, sc \u001b[38;5;241m=\u001b[39m \u001b[38;5;28;43mint\u001b[39;49m\u001b[43m(\u001b[49m\u001b[38;5;28;43minput\u001b[39;49m\u001b[43m(\u001b[49m\u001b[43m)\u001b[49m\u001b[43m)\u001b[49m\u001b[38;5;241m*\u001b[39m\u001b[38;5;241m3\u001b[39m, \u001b[38;5;28mint\u001b[39m(\u001b[38;5;28minput\u001b[39m())\u001b[38;5;241m*\u001b[39m\u001b[38;5;241m3\u001b[39m\n\u001b[0;32m     19\u001b[0m img_rows, img_cols \u001b[38;5;241m=\u001b[39m \u001b[38;5;241m64\u001b[39m, \u001b[38;5;241m64\u001b[39m\n\u001b[0;32m     21\u001b[0m cv2\u001b[38;5;241m.\u001b[39mrectangle(img,(sr,sc),(sr\u001b[38;5;241m+\u001b[39m\u001b[38;5;241m64\u001b[39m,sc\u001b[38;5;241m+\u001b[39m\u001b[38;5;241m64\u001b[39m),(\u001b[38;5;241m0\u001b[39m, \u001b[38;5;241m255\u001b[39m, \u001b[38;5;241m0\u001b[39m),\u001b[38;5;241m2\u001b[39m)\n",
      "\u001b[1;31mValueError\u001b[0m: invalid literal for int() with base 10: ''"
     ]
    },
    {
     "ename": "",
     "evalue": "",
     "output_type": "error",
     "traceback": [
      "\u001b[1;31mThe Kernel crashed while executing code in the current cell or a previous cell. \n",
      "\u001b[1;31mPlease review the code in the cell(s) to identify a possible cause of the failure. \n",
      "\u001b[1;31mClick <a href='https://aka.ms/vscodeJupyterKernelCrash'>here</a> for more info. \n",
      "\u001b[1;31mView Jupyter <a href='command:jupyter.viewOutput'>log</a> for further details."
     ]
    }
   ],
   "source": [
    "# light tracking\n",
    "\n",
    "\n",
    "\n",
    "\n",
    "while True:\n",
    "    ret_val, img = cam.read()\n",
    "    if img is None:\n",
    "        print(\"error opening camera\")\n",
    "        break\n",
    "        \n",
    "\n",
    "    gray = cv2.cvtColor(img, cv2.COLOR_BGR2GRAY)\n",
    "    gray = cv2.GaussianBlur(gray, (51, 51), 0)\n",
    "    \n",
    "    (minVal, maxVal, minLoc, maxLoc) = cv2.minMaxLoc(gray)\n",
    "    cv2.circle(img, maxLoc, 20, (0, 0, 255), 2)\n",
    "    sr, sc = int(input())*3, int(input())*3\n",
    "    img_rows, img_cols = 64, 64\n",
    "\n",
    "    cv2.rectangle(img,(sr,sc),(sr+64,sc+64),(0, 255, 0),2)\n",
    "    clear_output(wait=True)\n",
    "    print(maxLoc)\n",
    "    cv2.imshow('board_detector', img)\n",
    "\n",
    "    if cv2.waitKey(1) == 27:\n",
    "        break  # esc to quit\n",
    "\n",
    "\n",
    "cv2.destroyAllWindows()"
   ]
  },
  {
   "cell_type": "code",
   "execution_count": null,
   "metadata": {
    "collapsed": true
   },
   "outputs": [],
   "source": []
  }
 ],
 "metadata": {
  "kernelspec": {
   "display_name": "Python 3",
   "language": "python",
   "name": "python3"
  },
  "language_info": {
   "codemirror_mode": {
    "name": "ipython",
    "version": 3
   },
   "file_extension": ".py",
   "mimetype": "text/x-python",
   "name": "python",
   "nbconvert_exporter": "python",
   "pygments_lexer": "ipython3",
   "version": "3.12.5"
  }
 },
 "nbformat": 4,
 "nbformat_minor": 2
}
