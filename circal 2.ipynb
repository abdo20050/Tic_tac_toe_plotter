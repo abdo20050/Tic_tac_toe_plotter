{
 "cells": [
  {
   "cell_type": "code",
   "execution_count": 36,
   "metadata": {},
   "outputs": [
    {
     "name": "stdout",
     "output_type": "stream",
     "text": [
      "; Box: 2, Line: 8 \n",
      "G92 X35 Y200 Z5 \n",
      " G1 Z5 F10000 \n",
      " G0 X177.5 Y112 \n",
      " G1 Z0 \n",
      " G2 I6 \n",
      " G1 Z5 F10000 \n",
      " G0 X35 Y200 \n",
      " M118 E1 #### \n",
      "\n"
     ]
    }
   ],
   "source": [
    "# List of G-code for each circle\n",
    "gcode_circles = [\n",
    "    #Box 1\n",
    "\n",
    "\"G92 X35 Y200 Z5 \\n G1 Z5 F10000 \\n G0 X61 Y160 \\n G1 Z0 \\n G2 I6 \\n G1 Z5 F10000 \\n G0 X35 Y200 \\n M118 E1 #### \\n\",\n",
    "\"G92 X35 Y200 Z5 \\n G1 Z5 F10000 \\n G0 X85 Y160 \\n G1 Z0 \\n G2 I6 \\n G1 Z5 F10000 \\n G0 X35 Y200 \\n M118 E1 #### \\n\",\n",
    "\"G92 X35 Y200 Z5 \\n G1 Z5 F10000 \\n G0 X109 Y160 \\n G1 Z0 \\n G2 I6 \\n G1 Z5 F10000 \\n G0 X35 Y200 \\n M118 E1 #### \\n\",\n",
    "\"G92 X35 Y200 Z5 \\n G1 Z5 F10000 \\n G0 X61 Y136 \\n G1 Z0 \\n G2 I6 \\n G1 Z5 F10000 \\n G0 X35 Y200 \\n M118 E1 #### \\n\",\n",
    "\"G92 X35 Y200 Z5 \\n G1 Z5 F10000 \\n G0 X85 Y136 \\n G1 Z0 \\n G2 I6 \\n G1 Z5 F10000 \\n G0 X35 Y200 \\n M118 E1 #### \\n\",\n",
    "\"G92 X35 Y200 Z5 \\n G1 Z5 F10000 \\n G0 X109 Y136 \\n G1 Z0 \\n G2 I6 \\n G1 Z5 F10000 \\n G0 X35 Y200 \\n M118 E1 #### \\n\",\n",
    "\"G92 X35 Y200 Z5 \\n G1 Z5 F10000 \\n G0 X61 Y112 \\n G1 Z0 \\n G2 I6 \\n G1 Z5 F10000 \\n G0 X35 Y200 \\n M118 E1 #### \\n\",\n",
    "\"G92 X35 Y200 Z5 \\n G1 Z5 F10000 \\n G0 X85 Y112 \\n G1 Z0 \\n G2 I6 \\n G1 Z5 F10000 \\n G0 X35 Y200 \\n M118 E1 #### \\n\",\n",
    "\"G92 X35 Y200 Z5 \\n G1 Z5 F10000 \\n G0 X109 Y112 \\n G1 Z0 \\n G2 I6 \\n G1 Z5 F10000 \\n G0 X35 Y200 \\n M118 E1 #### \\n\",\n",
    "\n",
    "#Box 2\n",
    "\n",
    "\"G92 X35 Y200 Z5 \\n G1 Z5 F10000 \\n G0 X153.5 Y160 \\n G1 Z0 \\n G2 I6 \\n G1 Z5 F10000 \\n G0 X35 Y200 \\n M118 E1 #### \\n\",\n",
    "\"G92 X35 Y200 Z5 \\n G1 Z5 F10000 \\n G0 X177.5 Y160 \\n G1 Z0 \\n G2 I6 \\n G1 Z5 F10000 \\n G0 X35 Y200 \\n M118 E1 #### \\n\",\n",
    "\"G92 X35 Y200 Z5 \\n G1 Z5 F10000 \\n G0 X201.5 Y160 \\n G1 Z0 \\n G2 I6 \\n G1 Z5 F10000 \\n G0 X35 Y200 \\n M118 E1 #### \\n\",\n",
    "\"G92 X35 Y200 Z5 \\n G1 Z5 F10000 \\n G0 X153.5 Y136 \\n G1 Z0 \\n G2 I6 \\n G1 Z5 F10000 \\n G0 X35 Y200 \\n M118 E1 #### \\n\",\n",
    "\"G92 X35 Y200 Z5 \\n G1 Z5 F10000 \\n G0 X177.5 Y136 \\n G1 Z0 \\n G2 I6 \\n G1 Z5 F10000 \\n G0 X35 Y200 \\n M118 E1 #### \\n\",\n",
    "\"G92 X35 Y200 Z5 \\n G1 Z5 F10000 \\n G0 X201.5 Y136 \\n G1 Z0 \\n G2 I6 \\n G1 Z5 F10000 \\n G0 X35 Y200 \\n M118 E1 #### \\n\",\n",
    "\"G92 X35 Y200 Z5 \\n G1 Z5 F10000 \\n G0 X153.5 Y112 \\n G1 Z0 \\n G2 I6 \\n G1 Z5 F10000 \\n G0 X35 Y200 \\n M118 E1 #### \\n\",\n",
    "\"G92 X35 Y200 Z5 \\n G1 Z5 F10000 \\n G0 X177.5 Y112 \\n G1 Z0 \\n G2 I6 \\n G1 Z5 F10000 \\n G0 X35 Y200 \\n M118 E1 #### \\n\",\n",
    "\"G92 X35 Y200 Z5 \\n G1 Z5 F10000 \\n G0 X201.5 Y112 \\n G1 Z0 \\n G2 I6 \\n G1 Z5 F10000 \\n G0 X35 Y200 \\n M118 E1 #### \\n\",\n",
    "  \n",
    "#Box 3\n",
    "\n",
    "\"G92 X35 Y200 Z5 \\n G1 Z5 F10000 \\n G0 X246 Y160 \\n G1 Z0 \\n G2 I6 \\n G1 Z5 F10000 \\n G0 X35 Y200 \\n M118 E1 #### \\n\",\n",
    "\"G92 X35 Y200 Z5 \\n G1 Z5 F10000 \\n G0 X270 Y160 \\n G1 Z0 \\n G2 I6 \\n G1 Z5 F10000 \\n G0 X35 Y200 \\n M118 E1 #### \\n\",\n",
    "\"G92 X35 Y200 Z5 \\n G1 Z5 F10000 \\n G0 X294 Y160 \\n G1 Z0 \\n G2 I6 \\n G1 Z5 F10000 \\n G0 X35 Y200 \\n M118 E1 #### \\n\",\n",
    "\"G92 X35 Y200 Z5 \\n G1 Z5 F10000 \\n G0 X246 Y136 \\n G1 Z0 \\n G2 I6 \\n G1 Z5 F10000 \\n G0 X35 Y200 \\n M118 E1 #### \\n\",\n",
    "\"G92 X35 Y200 Z5 \\n G1 Z5 F10000 \\n G0 X270 Y136 \\n G1 Z0 \\n G2 I6 \\n G1 Z5 F10000 \\n G0 X35 Y200 \\n M118 E1 #### \\n\",\n",
    "\"G92 X35 Y200 Z5 \\n G1 Z5 F10000 \\n G0 X294 Y136 \\n G1 Z0 \\n G2 I6 \\n G1 Z5 F10000 \\n G0 X35 Y200 \\n M118 E1 #### \\n\",\n",
    "\"G92 X35 Y200 Z5 \\n G1 Z5 F10000 \\n G0 X246 Y112 \\n G1 Z0 \\n G2 I6 \\n G1 Z5 F10000 \\n G0 X35 Y200 \\n M118 E1 #### \\n\",\n",
    "\"G92 X35 Y200 Z5 \\n G1 Z5 F10000 \\n G0 X270 Y112 \\n G1 Z0 \\n G2 I6 \\n G1 Z5 F10000 \\n G0 X35 Y200 \\n M118 E1 #### \\n\",\n",
    "\"G92 X35 Y200 Z5 \\n G1 Z5 F10000 \\n G0 X294 Y112 \\n G1 Z0 \\n G2 I6 \\n G1 Z5 F10000 \\n G0 X35 Y200 \\n M118 E1 #### \\n\",\n",
    "\n",
    "#Box 4\n",
    "\n",
    "\"G92 X35 Y200 Z5 \\n G1 Z5 F10000 \\n G0 X61 Y60 \\n G1 Z0 \\n G2 I8 \\n G1 Z5 F10000 \\n G0 X35 Y200 \\n M118 E1 #### \\n\",\n",
    "\"G92 X35 Y200 Z5 \\n G1 Z5 F10000 \\n G0 X85 Y60 \\n G1 Z0 \\n G2 I8 \\n G1 Z5 F10000 \\n G0 X35 Y200 \\n M118 E1 #### \\n\",\n",
    "\"G92 X35 Y200 Z5 \\n G1 Z5 F10000 \\n G0 X109 Y60 \\n G1 Z0 \\n G2 I8 \\n G1 Z5 F10000 \\n G0 X35 Y200 \\n M118 E1 #### \\n\",\n",
    "\"G92 X35 Y200 Z5 \\n G1 Z5 F10000 \\n G0 X61 Y36 \\n G1 Z0 \\n G2 I8 \\n G1 Z5 F10000 \\n G0 X35 Y200 \\n M118 E1 #### \\n\",\n",
    "\"G92 X35 Y200 Z5 \\n G1 Z5 F10000 \\n G0 X85 Y36 \\n G1 Z0 \\n G2 I8 \\n G1 Z5 F10000 \\n G0 X35 Y200 \\n M118 E1 #### \\n\",\n",
    "\"G92 X35 Y200 Z5 \\n G1 Z5 F10000 \\n G0 X109 Y36 \\n G1 Z0 \\n G2 I8 \\n G1 Z5 F10000 \\n G0 X35 Y200 \\n M118 E1 #### \\n\",\n",
    "\"G92 X35 Y200 Z5 \\n G1 Z5 F10000 \\n G0 X61 Y12 \\n G1 Z0 \\n G2 I8 \\n G1 Z5 F10000 \\n G0 X35 Y200 \\n M118 E1 #### \\n\",\n",
    "\"G92 X35 Y200 Z5 \\n G1 Z5 F10000 \\n G0 X85 Y12 \\n G1 Z0 \\n G2 I8 \\n G1 Z5 F10000 \\n G0 X35 Y200 \\n M118 E1 #### \\n\",\n",
    "\"G92 X35 Y200 Z5 \\n G1 Z5 F10000 \\n G0 X109 Y12 \\n G1 Z0 \\n G2 I8 \\n G1 Z5 F10000 \\n G0 X35 Y200 \\n M118 E1 #### \\n\"\n",
    "\n",
    "#Box 5\n",
    "\n",
    "\"G92 X35 Y200 Z5 \\n G1 Z5 F10000 \\n G0 X153.5 Y60 \\n G1 Z0 \\n G2 I8 \\n G1 Z5 F10000 \\n G0 X35 Y200 \\n M118 E1 #### \\n\",\n",
    "\"G92 X35 Y200 Z5 \\n G1 Z5 F10000 \\n G0 X177.5 Y60 \\n G1 Z0 \\n G2 I8 \\n G1 Z5 F10000 \\n G0 X35 Y200 \\n M118 E1 #### \\n\",\n",
    "\"G92 X35 Y200 Z5 \\n G1 Z5 F10000 \\n G0 X201.5 Y60 \\n G1 Z0 \\n G2 I8 \\n G1 Z5 F10000 \\n G0 X35 Y200 \\n M118 E1 #### \\n\",\n",
    "\"G92 X35 Y200 Z5 \\n G1 Z5 F10000 \\n G0 X153.5 Y36 \\n G1 Z0 \\n G2 I8 \\n G1 Z5 F10000 \\n G0 X35 Y200 \\n M118 E1 #### \\n\",\n",
    "\"G92 X35 Y200 Z5 \\n G1 Z5 F10000 \\n G0 X177.5 Y36 \\n G1 Z0 \\n G2 I8 \\n G1 Z5 F10000 \\n G0 X35 Y200 \\n M118 E1 #### \\n\",\n",
    "\"G92 X35 Y200 Z5 \\n G1 Z5 F10000 \\n G0 X201.5 Y36 \\n G1 Z0 \\n G2 I8 \\n G1 Z5 F10000 \\n G0 X35 Y200 \\n M118 E1 #### \\n\",\n",
    "\"G92 X35 Y200 Z5 \\n G1 Z5 F10000 \\n G0 X153.5 Y12 \\n G1 Z0 \\n G2 I8 \\n G1 Z5 F10000 \\n G0 X35 Y200 \\n M118 E1 #### \\n\",\n",
    "\"G92 X35 Y200 Z5 \\n G1 Z5 F10000 \\n G0 X177.5 Y12 \\n G1 Z0 \\n G2 I8 \\n G1 Z5 F10000 \\n G0 X35 Y200 \\n M118 E1 #### \\n\",\n",
    "\"G92 X35 Y200 Z5 \\n G1 Z5 F10000 \\n G0 X201.5 Y12 \\n G1 Z0 \\n G2 I8 \\n G1 Z5 F10000 \\n G0 X35 Y200 \\n M118 E1 #### \\n\",\n",
    "\n",
    "#Box 6\n",
    "\n",
    "\"G92 X35 Y200 Z5 \\n G1 Z5 F10000 \\n G0 X246 Y60 \\n G1 Z0 \\n G2 I8 \\n G1 Z5 F10000 \\n G0 X35 Y200 \\n M118 E1 #### \\n\",\n",
    "\"G92 X35 Y200 Z5 \\n G1 Z5 F10000 \\n G0 X270 Y60 \\n G1 Z0 \\n G2 I8 \\n G1 Z5 F10000 \\n G0 X35 Y200 \\n M118 E1 #### \\n\",\n",
    "\"G92 X35 Y200 Z5 \\n G1 Z5 F10000 \\n G0 X294 Y60 \\n G1 Z0 \\n G2 I8 \\n G1 Z5 F10000 \\n G0 X35 Y200 \\n M118 E1 #### \\n\",\n",
    "\"G92 X35 Y200 Z5 \\n G1 Z5 F10000 \\n G0 X246 Y36 \\n G1 Z0 \\n G2 I8 \\n G1 Z5 F10000 \\n G0 X35 Y200 \\n M118 E1 #### \\n\",\n",
    "\"G92 X35 Y200 Z5 \\n G1 Z5 F10000 \\n G0 X270 Y36 \\n G1 Z0 \\n G2 I8 \\n G1 Z5 F10000 \\n G0 X35 Y200 \\n M118 E1 #### \\n\",\n",
    "\"G92 X35 Y200 Z5 \\n G1 Z5 F10000 \\n G0 X294 Y36 \\n G1 Z0 \\n G2 I8 \\n G1 Z5 F10000 \\n G0 X35 Y200 \\n M118 E1 #### \\n\",\n",
    "\"G92 X35 Y200 Z5 \\n G1 Z5 F10000 \\n G0 X246 Y12 \\n G1 Z0 \\n G2 I8 \\n G1 Z5 F10000 \\n G0 X35 Y200 \\n M118 E1 #### \\n\",\n",
    "\"G92 X35 Y200 Z5 \\n G1 Z5 F10000 \\n G0 X270 Y12 \\n G1 Z0 \\n G2 I8 \\n G1 Z5 F10000 \\n G0 X35 Y200 \\n M118 E1 #### \\n\",\n",
    "\"G92 X35 Y200 Z5 \\n G1 Z5 F10000 \\n G0 X294 Y12 \\n G1 Z0 \\n G2 I8 \\n G1 Z5 F10000 \\n G0 X35 Y200 \\n M118 E1 #### \\n\"\n",
    "]\n",
    "\n",
    "# Function to retrieve G-code for a specific box and line\n",
    "def get_gcode(box, line):\n",
    "    index = (box - 1) * 9 + (line - 1)\n",
    "    gcode = gcode_circles[index]\n",
    "    return f\"; Box: {box}, Line: {line} \\n{gcode}\"\n",
    "\n",
    "# Example of how to retrieve G-code for a specific box and line\n",
    "string_input = input(\"enter circle pos\")\n",
    "box_number = int(string_input[0])\n",
    "line_number = int(string_input[1])\n",
    "print(get_gcode(box_number, line_number))"
   ]
  },
  {
   "cell_type": "code",
   "execution_count": 37,
   "metadata": {},
   "outputs": [
    {
     "name": "stdout",
     "output_type": "stream",
     "text": [
      "Received: start\n"
     ]
    }
   ],
   "source": [
    "import serial\n",
    "import time\n",
    "\n",
    "# Open the serial port\n",
    "ser = serial.Serial('COM8', 250000, timeout=1)  # Replace 'COM3' with your serial port\n",
    "\n",
    "# Wait for the serial connection to initialize\n",
    "time.sleep(2)\n",
    "\n",
    "# Send data\n",
    "data_to_send = get_gcode(box_number, line_number)\n",
    "ser.write(data_to_send.encode('utf-8'))  # Send data as bytes\n",
    "\n",
    "# Optionally, read the response\n",
    "response = ser.readline().decode('utf-8').strip()\n",
    "print(\"Received:\", response)\n",
    "\n",
    "# Close the serial port\n",
    "ser.close()"
   ]
  },
  {
   "cell_type": "code",
   "execution_count": 32,
   "metadata": {},
   "outputs": [
    {
     "name": "stdout",
     "output_type": "stream",
     "text": [
      "Received: start\n"
     ]
    }
   ],
   "source": [
    "import serial\n",
    "import time\n",
    "\n",
    "# Open the serial port\n",
    "ser = serial.Serial('COM8', 250000, timeout=2)  # Ensure this is the correct port and baud rate for your device\n",
    "\n",
    "# Wait for the serial connection to initialize\n",
    "time.sleep(2)  # Adjust if necessary\n",
    "\n",
    "# Send data\n",
    "data_to_send = \"G28\\n G0 X35 Y200 Z5 F10000\\n\"  # Ensure the command ends with \\n, or \\r\\n if needed\n",
    "ser.write(data_to_send.encode('utf-8'))  # Send data as bytes\n",
    "\n",
    "# Optionally, read the response\n",
    "response = ser.readline().decode('utf-8').strip()\n",
    "print(\"Received:\", response)\n",
    "\n",
    "# Close the serial port\n",
    "ser.close()"
   ]
  }
 ],
 "metadata": {
  "kernelspec": {
   "display_name": "Python 3",
   "language": "python",
   "name": "python3"
  },
  "language_info": {
   "codemirror_mode": {
    "name": "ipython",
    "version": 3
   },
   "file_extension": ".py",
   "mimetype": "text/x-python",
   "name": "python",
   "nbconvert_exporter": "python",
   "pygments_lexer": "ipython3",
   "version": "3.12.5"
  }
 },
 "nbformat": 4,
 "nbformat_minor": 2
}
